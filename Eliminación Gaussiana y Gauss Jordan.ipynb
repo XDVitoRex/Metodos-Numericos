{
 "cells": [
  {
   "cell_type": "markdown",
   "id": "57a4bc5a",
   "metadata": {},
   "source": [
    "Código de Eliminación Gaussiana con la libreria numpy y time"
   ]
  },
  {
   "cell_type": "code",
   "execution_count": 11,
   "id": "8db7a2ef",
   "metadata": {},
   "outputs": [],
   "source": [
    "import numpy as np\n",
    "import time\n",
    "\n",
    "def eliminacion_gaus(A, b):\n",
    "    n, m = A.shape\n",
    "    Ab = np.hstack([A.astype(float), b.reshape(-1, 1).astype(float)])\n",
    "    for i in range(min(n, m)):\n",
    "        if Ab[i, i] == 0:\n",
    "            for p in range(i+1, n):\n",
    "                if Ab[p, i] != 0:\n",
    "                    Ab[[i, p]] = Ab[[p, i]]\n",
    "                    break\n",
    "        if Ab[i, i] == 0:\n",
    "            continue\n",
    "\n",
    "        for j in range(i+1, n):\n",
    "            m_ij = Ab[j, i] / Ab[i, i]\n",
    "            Ab[j, i:] -= m_ij * Ab[i, i:]\n",
    "    rank = 0\n",
    "    for row in Ab:\n",
    "        if any(np.abs(row[:-1]) > 1e-10):  \n",
    "            rank += 1\n",
    "        elif np.abs(row[-1]) > 1e-10:      \n",
    "            print(\"No tiene solución.\")\n",
    "            return None\n",
    "\n",
    "    if rank < m:\n",
    "        print(\"Tiene infinitas soluciones.\")\n",
    "        return None\n",
    "\n",
    "    # Sustitución hacia atrás (solución única)\n",
    "    x = np.zeros(m)\n",
    "    for i in range(m-1, -1, -1):\n",
    "        suma = np.dot(Ab[i, i+1:m], x[i+1:m])\n",
    "        x[i] = (Ab[i, -1] - suma) / Ab[i, i]\n",
    "    \n",
    "    return x\n"
   ]
  },
  {
   "cell_type": "code",
   "execution_count": 12,
   "id": "2db63925",
   "metadata": {},
   "outputs": [
    {
     "name": "stdout",
     "output_type": "stream",
     "text": [
      "No tiene solución.\n"
     ]
    }
   ],
   "source": [
    "A = np.array([\n",
    "    [1, 1, 0, 1],\n",
    "    [2, 1, -1, 1],\n",
    "    [4, -1, -2, 2],\n",
    "    [3, -1, -1, 2]\n",
    "])\n",
    "\n",
    "b = np.array([2, 1, 0, -3])\n",
    "\n",
    "solucion = eliminacion_gaus(A, b)\n",
    "end_time = time.time()\n",
    "\n",
    "if solucion is not None:\n",
    "    print(\"Solución única del sistema:\")\n",
    "    print(solucion)\n",
    "    print(f\"Tiempo de ejecución: {end_time - start_time:.6f} segundos\")"
   ]
  },
  {
   "cell_type": "markdown",
   "id": "f7cc3400",
   "metadata": {},
   "source": [
    "Código de Eliminación Gaussiana - precisión de 32 bits con la libreria numpy y time"
   ]
  },
  {
   "cell_type": "code",
   "execution_count": 13,
   "id": "4b35d2ac",
   "metadata": {},
   "outputs": [],
   "source": [
    "import numpy as np\n",
    "import time\n",
    "\n",
    "def gauss_elimination_32bit(A, b):\n",
    "    A = A.astype(np.float32)\n",
    "    b = b.astype(np.float32)\n",
    "\n",
    "    n, m = A.shape\n",
    "    Ab = np.hstack([A, b.reshape(-1, 1)])\n",
    "\n",
    "    for i in range(min(n, m)):\n",
    "        if Ab[i, i] == 0:\n",
    "            for p in range(i+1, n):\n",
    "                if Ab[p, i] != 0:\n",
    "                    Ab[[i, p]] = Ab[[p, i]]\n",
    "                    break\n",
    "\n",
    "        if Ab[i, i] == 0:\n",
    "            continue\n",
    "\n",
    "        for j in range(i+1, n):\n",
    "            m_ij = Ab[j, i] / Ab[i, i]\n",
    "            Ab[j, i:] -= m_ij * Ab[i, i:]\n",
    "\n",
    "    rank = 0\n",
    "    for row in Ab:\n",
    "        if np.any(np.abs(row[:-1]) > 1e-5):\n",
    "            rank += 1\n",
    "        elif np.abs(row[-1]) > 1e-5:\n",
    "            print(\"No tiene solución.\")\n",
    "            return None\n",
    "\n",
    "    if rank < m:\n",
    "        print(\"Tiene infinitas soluciones.\")\n",
    "        return None\n",
    "\n",
    "    x = np.zeros(m, dtype=np.float32)\n",
    "    for i in range(m-1, -1, -1):\n",
    "        suma = np.dot(Ab[i, i+1:m], x[i+1:m])\n",
    "        x[i] = (Ab[i, -1] - suma) / Ab[i, i]\n",
    "    \n",
    "    return x"
   ]
  },
  {
   "cell_type": "code",
   "execution_count": 18,
   "id": "50463405",
   "metadata": {},
   "outputs": [
    {
     "name": "stdout",
     "output_type": "stream",
     "text": [
      "Solución (32 bits): [1.8830409  2.8070176  0.7309942  1.4385967  0.09356731]\n",
      "Tiempo de ejecución: 0.000000 segundos\n"
     ]
    }
   ],
   "source": [
    "A = np.array([\n",
    "    [2, 1, -1, 1, -3],\n",
    "    [1, 0, 2, -1, 1],\n",
    "    [0, -2, -1, 1, -1],\n",
    "    [3, 1, -4, 0, 5],\n",
    "    [1, -1, -1, -1, 1]\n",
    "], dtype=np.float32)\n",
    "\n",
    "b = np.array([7, 2, -5, 6, -3], dtype=np.float32)\n",
    "\n",
    "start = time.time()\n",
    "sol = gauss_elimination_32bit(A, b)\n",
    "end = time.time()\n",
    "\n",
    "if sol is not None:\n",
    "    print(\"Solución (32 bits):\", sol)\n",
    "    print(f\"Tiempo de ejecución: {end - start:.6f} segundos\")"
   ]
  },
  {
   "cell_type": "markdown",
   "id": "a3aab173",
   "metadata": {},
   "source": [
    "Código de Eliminación Gauss Jordan"
   ]
  },
  {
   "cell_type": "code",
   "execution_count": 2,
   "id": "ee240cfc",
   "metadata": {},
   "outputs": [],
   "source": [
    "import numpy as np\n",
    "import time\n",
    "\n",
    "def gauusJordan_Eliminación(A, b):\n",
    "    A = A.astype(float)\n",
    "    b = b.astype(float)\n",
    "\n",
    "    n, m = A.shape\n",
    "    Ab = np.hstack([A, b.reshape(-1, 1)]) \n",
    "\n",
    "    for i in range(min(n, m)):\n",
    "        if np.isclose(Ab[i, i], 0):\n",
    "            for p in range(i+1, n):\n",
    "                if not np.isclose(Ab[p, i], 0):\n",
    "                    Ab[[i, p]] = Ab[[p, i]]\n",
    "                    break\n",
    "            else:\n",
    "                continue \n",
    "\n",
    "        Ab[i] = Ab[i] / Ab[i, i]\n",
    "\n",
    "        for j in range(n):\n",
    "            if j != i:\n",
    "                factor = Ab[j, i]\n",
    "                Ab[j] -= factor * Ab[i]\n",
    "\n",
    "    for row in Ab:\n",
    "        if np.all(np.isclose(row[:-1], 0)) and not np.isclose(row[-1], 0):\n",
    "            print(\"No tiene solución (sistema incompatible).\")\n",
    "            return None\n",
    "    rank = np.linalg.matrix_rank(Ab[:, :-1])\n",
    "    if rank < m:\n",
    "        print(\"Tiene infinitas soluciones.\")\n",
    "        return None\n",
    "\n",
    "    x = Ab[:, -1]\n",
    "    return x\n"
   ]
  },
  {
   "cell_type": "code",
   "execution_count": 3,
   "id": "9b208227",
   "metadata": {},
   "outputs": [
    {
     "name": "stdout",
     "output_type": "stream",
     "text": [
      "Solución con Gauss-Jordan: [1.88304094 2.80701754 0.73099415 1.43859649 0.09356725]\n",
      "Tiempo de ejecución: 0.004198 segundos\n"
     ]
    }
   ],
   "source": [
    "A = np.array([\n",
    "    [2, 1, -1, 1, -3],\n",
    "    [1, 0, 2, -1, 1],\n",
    "    [0, -2, -1, 1, -1],\n",
    "    [3, 1, -4, 0, 5],\n",
    "    [1, -1, -1, -1, 1]\n",
    "])\n",
    "\n",
    "b = np.array([7, 2, -5, 6, -3])\n",
    "\n",
    "start = time.time()\n",
    "sol = gauusJordan_Eliminación(A, b)\n",
    "end = time.time()\n",
    "\n",
    "if sol is not None:\n",
    "    print(\"Solución con Gauss-Jordan:\", sol)\n",
    "    print(f\"Tiempo de ejecución: {end - start:.6f} segundos\")"
   ]
  }
 ],
 "metadata": {
  "kernelspec": {
   "display_name": "Python 3",
   "language": "python",
   "name": "python3"
  },
  "language_info": {
   "codemirror_mode": {
    "name": "ipython",
    "version": 3
   },
   "file_extension": ".py",
   "mimetype": "text/x-python",
   "name": "python",
   "nbconvert_exporter": "python",
   "pygments_lexer": "ipython3",
   "version": "3.11.0"
  }
 },
 "nbformat": 4,
 "nbformat_minor": 5
}
