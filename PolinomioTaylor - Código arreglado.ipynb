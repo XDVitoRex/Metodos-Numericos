{
 "cells": [
  {
   "cell_type": "code",
   "execution_count": 8,
   "id": "8af0ceed",
   "metadata": {},
   "outputs": [],
   "source": [
    "import sympy as sp"
   ]
  },
  {
   "cell_type": "code",
   "execution_count": 9,
   "id": "02bc0007",
   "metadata": {},
   "outputs": [],
   "source": [
    "def truncar(numero, decimales):\n",
    "    \"\"\"   \n",
    "    :numero: El número a truncar\n",
    "    :param decimales: Cuántos decimales mantener\n",
    "\n",
    "    :return: número truncado en número n de decimales, ejemplo: original= 0.335, 0.33 a 2 decimales truncados\n",
    "    \"\"\"\n",
    "    factor = 10 ** decimales\n",
    "    return int(numero * factor) / factor"
   ]
  },
  {
   "cell_type": "code",
   "execution_count": null,
   "id": "f6a01ccd",
   "metadata": {},
   "outputs": [
    {
     "name": "stdout",
     "output_type": "stream",
     "text": [
      "Original: 0.335555\n",
      "Truncamiento: 0.3355\n"
     ]
    }
   ],
   "source": [
    "x = 0.335555\n",
    "x_truncado = truncar(x, 4)\n",
    "print(\"Original:\", x)\n",
    "print(\"Truncamiento:\", x_truncado)"
   ]
  },
  {
   "cell_type": "code",
   "execution_count": null,
   "id": "95da52c6",
   "metadata": {},
   "outputs": [],
   "source": [
    "def polinomio_taylor(func_str, x0, grado, decimales):\n",
    "    \n",
    "    \"\"\"\n",
    "    :func_str: string, función original\n",
    "    :x0: entero, punto alrededor del cual se desarrolla el polinomio    \n",
    "    :grado: entero, grado de polinomio de Taylor    \n",
    "    :decimales: entero, decimales a truncar\n",
    "    :return: polinomio de taylor aproximado a la función origianl, f(x) ≈ P_n(x) + R_n(x)\n",
    "    \"\"\"\n",
    "    \n",
    "    x = sp.Symbol('x')\n",
    "    f = sp.sympify(func_str)\n",
    "\n",
    "    taylor_expr = 0\n",
    "\n",
    "    for n in range(grado + 1):\n",
    "        derivada = f.diff(x, n)\n",
    "        deriv_val = derivada.subs(x, x0)\n",
    "        factorial_n = sp.factorial(n)\n",
    "        coef = deriv_val / factorial_n\n",
    "\n",
    "        if coef.is_number:\n",
    "            coef = truncar(float(coef), decimales)\n",
    "\n",
    "        if coef == 0:\n",
    "            continue\n",
    "\n",
    "        base = (x - x0)**n if x0 != 0 else x**n\n",
    "        taylor_expr += coef * base\n",
    "\n",
    "    # Expandir el polinomio de Taylor para desarrollar los términos como (x-1)**2, etc.\n",
    "    taylor_expr = sp.expand(taylor_expr)\n",
    "    # Truncar coeficientes del polinomio resultante\n",
    "    # Nos devuelve entero al momento de encontrar la suma de los términos, en el que caso que no exista esta suma, seria solo un termino por lo que se omite esto\n",
    "    # y se pasa al else el cual trunca de igual manera. \n",
    "    if taylor_expr.is_Add:\n",
    "        terms = taylor_expr.as_ordered_terms()\n",
    "        taylor_expr_trunc = 0\n",
    "        # Se suman todos los terminos semejantes\n",
    "        for term in terms:\n",
    "            coef, monomial = term.as_coeff_Mul()\n",
    "            #Trunca el valor\n",
    "            coef_trunc = truncar(float(coef), decimales) if coef != 0 else 0\n",
    "            #Multiplica el coeficiente truncado por el monomio. Ejemplo: 3,1451 * x**2 \n",
    "            taylor_expr_trunc += coef_trunc * monomial\n",
    "        taylor_expr = taylor_expr_trunc\n",
    "    else:\n",
    "        coef, monomial = taylor_expr.as_coeff_Mul()\n",
    "        coef_trunc = truncar(float(coef), decimales) if coef != 0 else 0\n",
    "        taylor_expr = coef_trunc * monomial\n",
    "\n",
    "    Pn_str = str(taylor_expr)\n",
    "\n",
    "    n_plus_1 = grado + 1\n",
    "    factorial_np1 = sp.factorial(n_plus_1)\n",
    "    inverso_truncado = truncar(1 / float(factorial_np1), decimales)\n",
    "\n",
    "    base_error = sp.expand((x - x0)**n_plus_1)\n",
    "    Rn_str = f\"( {inverso_truncado}*{func_str}^({n_plus_1})(ξ(x)) )*({base_error})\"\n",
    "\n",
    "    print(f\"P_n(x) ≈ {Pn_str}\")\n",
    "    print(f\"R_n(x) ≈ {Rn_str}\")\n",
    "\n",
    "    return f\"f(x) ≈ {Pn_str} + {Rn_str}\""
   ]
  },
  {
   "cell_type": "markdown",
   "id": "27d1ea81",
   "metadata": {},
   "source": [
    "#### Funciones válidas para función `taylor`\n",
    "\n",
    "Funciones Trigonométricas\n",
    "\n",
    "| Función Matemática | String válido (`func_str`) |\n",
    "|--------------------|-----------------------------|\n",
    "| \\( sin(x) \\)      | `\"sin(x)\"`                  |\n",
    "| \\( cos(x) \\)      | `\"cos(x)\"`                  |\n",
    "| \\( tan(x) \\)      | `\"tan(x)\"`                  |\n",
    "| \\( cot(x) \\)      | `\"cot(x)\"`                  |\n",
    "| \\( sec(x) \\)      | `\"sec(x)\"`                  |\n",
    "| \\( csc(x) \\)      | `\"csc(x)\"`                  |\n",
    "\n",
    "\n",
    "\n",
    "Funciones Exponenciales y Logarítmicas\n",
    "\n",
    "| Función Matemática   | String válido (`func_str`) |\n",
    "|----------------------|-----------------------------|\n",
    "| \\( e^x \\)            | `\"exp(x)\"`                  |\n",
    "| \\( ln(x) \\)         | `\"ln(x)\"`                   |\n",
    "| \\( log_{10}(x) \\)   | `\"log(x, 10)\"`              |\n",
    "| \\( log_b(x) \\)      | `\"log(x, b)\"` (reemplazar `b`) |\n",
    "\n",
    "\n",
    "\n",
    "Funciones Misceláneas\n",
    "\n",
    "| Función Matemática | String válido (`func_str`) |\n",
    "|--------------------|-----------------------------|\n",
    "| \\( \\sqrt{x} \\)     | `\"sqrt(x)\"`                 |\n",
    "| \\( \\|x\\| \\)          | `\"Abs(x)\"`                  |\n",
    "| Polinomio típico   | `\"x**2 + 3*x\"`              |\n"
   ]
  },
  {
   "cell_type": "code",
   "execution_count": 23,
   "id": "0f151c65",
   "metadata": {},
   "outputs": [
    {
     "name": "stdout",
     "output_type": "stream",
     "text": [
      "P_n(x) ≈ 0.1132*x**4 + 0.0002*x**3 + 0.6793*x**2 + 0.9062*x + 1.0192\n",
      "R_n(x) ≈ ( 0.0083*exp(x)^(5)(ξ(x)) )*(x**5 - 5*x**4 + 10*x**3 - 10*x**2 + 5*x - 1)\n",
      "f(x) ≈ 0.1132*x**4 + 0.0002*x**3 + 0.6793*x**2 + 0.9062*x + 1.0192 + ( 0.0083*exp(x)^(5)(ξ(x)) )*(x**5 - 5*x**4 + 10*x**3 - 10*x**2 + 5*x - 1)\n"
     ]
    }
   ],
   "source": [
    "print(polinomio_taylor(\"exp(x)\", x0=1, grado=4, decimales=4))"
   ]
  },
  {
   "cell_type": "code",
   "execution_count": null,
   "id": "63773c6c",
   "metadata": {},
   "outputs": [],
   "source": []
  }
 ],
 "metadata": {
  "kernelspec": {
   "display_name": "Python 3",
   "language": "python",
   "name": "python3"
  },
  "language_info": {
   "codemirror_mode": {
    "name": "ipython",
    "version": 3
   },
   "file_extension": ".py",
   "mimetype": "text/x-python",
   "name": "python",
   "nbconvert_exporter": "python",
   "pygments_lexer": "ipython3",
   "version": "3.11.0"
  }
 },
 "nbformat": 4,
 "nbformat_minor": 5
}
