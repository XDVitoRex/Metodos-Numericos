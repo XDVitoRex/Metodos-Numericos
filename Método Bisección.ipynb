{
 "cells": [
  {
   "cell_type": "markdown",
   "id": "c2926f9b",
   "metadata": {},
   "source": [
    "<h1 style=\"text-align:center;\">ESCUELA POLITÉCNICA NACIONAL</h1>\n",
    "<h2 style=\"text-align:center;\">FACULTAD DE INGENIERÍA DE SISTEMAS</h2>\n",
    "<h3 style=\"text-align:center;\">INGENIERÍA COMPUTACIÓN</h3>"
   ]
  },
  {
   "cell_type": "markdown",
   "id": "2c6ffda6",
   "metadata": {},
   "source": [
    "**PERÍODO ACADÉMICO:** 2025-A  \n",
    "**ASIGNATURA:** ICCD412 Métodos Numéricos  \n",
    "**GRUPO:** GR2  \n",
    "**TIPO DE INSTRUMENTO:** [Tarea]  \n",
    "**FECHA DE ENTREGA LÍMITE:** [04/05/2025]  \n",
    "**ALUMNO:** Medina Alvaro"
   ]
  },
  {
   "cell_type": "markdown",
   "id": "782a400e",
   "metadata": {},
   "source": [
    "#### Método de la Bisección"
   ]
  },
  {
   "cell_type": "code",
   "execution_count": 1,
   "id": "95e7c043",
   "metadata": {},
   "outputs": [],
   "source": [
    "def biseccion(f, a, b, TOL, N0):\n",
    "    i = 1\n",
    "    FA = f(a)\n",
    "    while i <= N0:\n",
    "        p = a + (b - a) / 2\n",
    "        FP = f(p)\n",
    "        if FP == 0 or (b - a) / 2 < TOL:\n",
    "            return p \n",
    "        i += 1\n",
    "        if FA * FP > 0:\n",
    "            a = p\n",
    "            FA = FP\n",
    "        else:\n",
    "            b = p\n",
    "    print(f\"El método fracasó después de {N0} iteraciones.\")\n",
    "    return None  # El procedimiento no fue exitoso."
   ]
  },
  {
   "cell_type": "code",
   "execution_count": 2,
   "id": "c08599c3",
   "metadata": {},
   "outputs": [
    {
     "name": "stdout",
     "output_type": "stream",
     "text": [
      "Raíz aproximada encontrada: 1.5213851928710938\n"
     ]
    }
   ],
   "source": [
    "def f(x):\n",
    "    return x**3 - x - 2\n",
    "\n",
    "raiz = biseccion(f, 1, 2, 1e-5, 100)\n",
    "\n",
    "if raiz is not None:\n",
    "    print(f\"Raíz aproximada encontrada: {raiz}\")"
   ]
  }
 ],
 "metadata": {
  "kernelspec": {
   "display_name": "Python 3",
   "language": "python",
   "name": "python3"
  },
  "language_info": {
   "codemirror_mode": {
    "name": "ipython",
    "version": 3
   },
   "file_extension": ".py",
   "mimetype": "text/x-python",
   "name": "python",
   "nbconvert_exporter": "python",
   "pygments_lexer": "ipython3",
   "version": "3.11.0"
  }
 },
 "nbformat": 4,
 "nbformat_minor": 5
}
